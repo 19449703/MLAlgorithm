{
 "metadata": {
  "language_info": {
   "codemirror_mode": {
    "name": "ipython",
    "version": 3
   },
   "file_extension": ".py",
   "mimetype": "text/x-python",
   "name": "python",
   "nbconvert_exporter": "python",
   "pygments_lexer": "ipython3",
   "version": "3.7.3-final"
  },
  "orig_nbformat": 2,
  "kernelspec": {
   "name": "python37364bitbaseconda4f3679e610b74ee39ea12aae72343b9a",
   "display_name": "Python 3.7.3 64-bit ('base': conda)"
  }
 },
 "nbformat": 4,
 "nbformat_minor": 2,
 "cells": [
  {
   "cell_type": "code",
   "execution_count": 26,
   "metadata": {
    "tags": []
   },
   "outputs": [],
   "source": [
    "import numpy as np\n",
    "from sklearn.datasets import load_diabetes\n",
    "from sklearn.utils import shuffle\n",
    "import LinearRegression\n",
    "\n",
    "%reload_ext autoreload\n",
    "%autoreload 2"
   ]
  },
  {
   "cell_type": "code",
   "execution_count": 20,
   "metadata": {},
   "outputs": [],
   "source": [
    "diabetes = load_diabetes()\n",
    "data = diabetes.data\n",
    "target = diabetes.target"
   ]
  },
  {
   "cell_type": "code",
   "execution_count": 21,
   "metadata": {},
   "outputs": [],
   "source": [
    "# 打乱数据\n",
    "X, y = shuffle(data, target, random_state = 13)\n",
    "X = X.astype(np.float32) # float64-->float32"
   ]
  },
  {
   "cell_type": "code",
   "execution_count": 22,
   "metadata": {
    "tags": []
   },
   "outputs": [
    {
     "output_type": "stream",
     "name": "stdout",
     "text": "X_train= (397, 10)\nX_test= (45, 10)\ny_train= (397, 1)\ny_test= (45, 1)\n"
    }
   ],
   "source": [
    "# 训练集与测试集的简单划分\n",
    "offset = int(X.shape[0] * 0.9)\n",
    "X_train, y_train = X[:offset], y[:offset]\n",
    "X_test, y_test = X[offset:], y[offset:]\n",
    "\n",
    "y_train = y_train.reshape((-1, 1))\n",
    "y_test = y_test.reshape((-1, 1))\n",
    "\n",
    "print('X_train=', X_train.shape)\n",
    "print('X_test=', X_test.shape)\n",
    "print('y_train=', y_train.shape)\n",
    "print('y_test=', y_test.shape)"
   ]
  },
  {
   "cell_type": "code",
   "execution_count": 27,
   "metadata": {
    "tags": []
   },
   "outputs": [
    {
     "output_type": "stream",
     "name": "stdout",
     "text": "epoch 10000 loss 2869.670557\nepoch 20000 loss 2866.159558\nepoch 30000 loss 2863.198013\nepoch 40000 loss 2860.685698\nepoch 50000 loss 2858.551609\nepoch 60000 loss 2856.738117\nepoch 70000 loss 2855.196896\nepoch 80000 loss 2853.887029\nepoch 90000 loss 2852.773777\n"
    }
   ],
   "source": [
    "# 执行训练\n",
    "lr = LinearRegression.LinearRegression()\n",
    "loss_list, params, grads = lr.linear_train(X_train, y_train, 0.001, 100000)"
   ]
  },
  {
   "cell_type": "code",
   "execution_count": 29,
   "metadata": {
    "tags": []
   },
   "outputs": [
    {
     "output_type": "execute_result",
     "data": {
      "text/plain": "array([[118.8034897 ],\n       [162.70920299],\n       [132.73704427],\n       [100.0746456 ],\n       [142.05385378]])"
     },
     "metadata": {},
     "execution_count": 29
    }
   ],
   "source": [
    "# 预测\n",
    "y_pred = lr.predict(X_test, params)\n",
    "y_pred[:5]"
   ]
  },
  {
   "cell_type": "code",
   "execution_count": 30,
   "metadata": {},
   "outputs": [
    {
     "output_type": "execute_result",
     "data": {
      "text/plain": "<matplotlib.collections.PathCollection at 0x258607ffcc0>"
     },
     "metadata": {},
     "execution_count": 30
    },
    {
     "output_type": "execute_result",
     "data": {
      "text/plain": "[<matplotlib.lines.Line2D at 0x258607df3c8>]"
     },
     "metadata": {},
     "execution_count": 30
    },
    {
     "output_type": "execute_result",
     "data": {
      "text/plain": "Text(0.5, 0, 'X')"
     },
     "metadata": {},
     "execution_count": 30
    },
    {
     "output_type": "execute_result",
     "data": {
      "text/plain": "Text(0, 0.5, 'y')"
     },
     "metadata": {},
     "execution_count": 30
    },
    {
     "output_type": "display_data",
     "data": {
      "text/plain": "<Figure size 432x288 with 1 Axes>",
      "image/png": "[encoded data removed]"
     },
     "metadata": {
      "needs_background": "light"
     }
    }
   ],
   "source": [
    "import matplotlib.pyplot as plt\n",
    "\n",
    "f = X_test.dot(params['w']) + params['b']\n",
    "\n",
    "plt.scatter(range(X_test.shape[0]), y_test)\n",
    "plt.plot(f, color = 'darkorange')\n",
    "plt.xlabel('X')\n",
    "plt.ylabel('y')\n",
    "plt.show()\n",
    "\n",
    "# 可见全变量的数据对于线性回归模型的拟合并不好，一来数据本身的分布问题，二来简单的线性模型对于该数据拟合效果差。当然，我们只是为了演示线性回归模型的基本过程，不要在意效果。"
   ]
  },
  {
   "cell_type": "code",
   "execution_count": 31,
   "metadata": {},
   "outputs": [
    {
     "output_type": "execute_result",
     "data": {
      "text/plain": "[<matplotlib.lines.Line2D at 0x258607df7b8>]"
     },
     "metadata": {},
     "execution_count": 31
    },
    {
     "output_type": "execute_result",
     "data": {
      "text/plain": "Text(0.5, 0, 'epochs')"
     },
     "metadata": {},
     "execution_count": 31
    },
    {
     "output_type": "execute_result",
     "data": {
      "text/plain": "Text(0, 0.5, 'loss')"
     },
     "metadata": {},
     "execution_count": 31
    },
    {
     "output_type": "display_data",
     "data": {
      "text/plain": "<Figure size 432x288 with 1 Axes>",
      "image/png": "[encoded data removed]"
     },
     "metadata": {
      "needs_background": "light"
     }
    }
   ],
   "source": [
    "# 训练过程中损失的下降\n",
    "plt.plot(loss_list, color = 'blue')\n",
    "plt.xlabel('epochs')\n",
    "plt.ylabel('loss')\n",
    "plt.show()"
   ]
  },
  {
   "cell_type": "code",
   "execution_count": 33,
   "metadata": {
    "tags": []
   },
   "outputs": [
    {
     "output_type": "stream",
     "name": "stdout",
     "text": "epoch 10000 loss 0.000000\nepoch 20000 loss 0.000000\nepoch 30000 loss 0.000000\nepoch 40000 loss 0.000000\nepoch 50000 loss 0.000000\nepoch 60000 loss 0.000000\nepoch 70000 loss 0.000000\nepoch 80000 loss 0.000000\nepoch 90000 loss 0.000000\nfive kold cross validation score is 1.417022201863749e-05\nvalid score is 2.9212940423577956e-11\nepoch 10000 loss 0.000000\nepoch 20000 loss 0.000000\nepoch 30000 loss 0.000000\nepoch 40000 loss 0.000000\nepoch 50000 loss 0.000000\nepoch 60000 loss 0.000000\nepoch 70000 loss 0.000000\nepoch 80000 loss 0.000000\nepoch 90000 loss 0.000000\nfive kold cross validation score is 1.4170400400457815e-05\nvalid score is 4.6025120532881146e-11\nepoch 10000 loss 0.000000\nepoch 20000 loss 0.000000\nepoch 30000 loss 0.000000\nepoch 40000 loss 0.000000\nepoch 50000 loss 0.000000\nepoch 60000 loss 0.000000\nepoch 70000 loss 0.000000\nepoch 80000 loss 0.000000\nepoch 90000 loss 0.000000\nfive kold cross validation score is 1.4129911663865757e-05\nvalid score is 1.00804182097374e-10\nepoch 10000 loss 0.000000\nepoch 20000 loss 0.000000\nepoch 30000 loss 0.000000\nepoch 40000 loss 0.000000\nepoch 50000 loss 0.000000\nepoch 60000 loss 0.000000\nepoch 70000 loss 0.000000\nepoch 80000 loss 0.000000\nepoch 90000 loss 0.000000\nfive kold cross validation score is 1.4129843819911048e-05\nvalid score is 1.3929811279578068e-10\nepoch 10000 loss 0.000000\nepoch 20000 loss 0.000000\nepoch 30000 loss 0.000000\nepoch 40000 loss 0.000000\nepoch 50000 loss 0.000000\nepoch 60000 loss 0.000000\nepoch 70000 loss 0.000000\nepoch 80000 loss 0.000000\nepoch 90000 loss 0.000000\nfive kold cross validation score is 1.4129680556460587e-05\nvalid score is 3.597182271970084e-10\n"
    }
   ],
   "source": [
    "# 交叉验证\n",
    "for train, validation in lr.linear_cross_validation(data, 5):\n",
    "    X_train = train[:, :10]\n",
    "    y_train = train[:, -1].reshape((-1, 1))\n",
    "    X_valid = validation[:, :10]\n",
    "    y_valid = validation[:, -1].reshape((-1, 1))\n",
    "\n",
    "    loss5, params, grads = lr.linear_train(X_train, y_train, 0.001, 100000)\n",
    "    score = np.mean(loss5)\n",
    "    print('five kold cross validation score is', score)\n",
    "    y_pred = lr.predict(X_valid, params)\n",
    "    valid_score = np.sum(((y_pred - y_valid) ** 2)) / len(X_valid)\n",
    "    print('valid score is', valid_score)"
   ]
  },
  {
   "cell_type": "code",
   "execution_count": null,
   "metadata": {},
   "outputs": [],
   "source": []
  }
 ]
}