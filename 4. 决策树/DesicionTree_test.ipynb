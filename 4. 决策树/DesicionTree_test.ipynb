{
 "metadata": {
  "language_info": {
   "codemirror_mode": {
    "name": "ipython",
    "version": 3
   },
   "file_extension": ".py",
   "mimetype": "text/x-python",
   "name": "python",
   "nbconvert_exporter": "python",
   "pygments_lexer": "ipython3",
   "version": "3.7.3-final"
  },
  "orig_nbformat": 2,
  "kernelspec": {
   "name": "python37364bitbaseconda4f3679e610b74ee39ea12aae72343b9a",
   "display_name": "Python 3.7.3 64-bit ('base': conda)"
  }
 },
 "nbformat": 4,
 "nbformat_minor": 2,
 "cells": [
  {
   "cell_type": "code",
   "execution_count": 1,
   "metadata": {},
   "outputs": [],
   "source": [
    "import numpy as np\n",
    "import pandas as pd\n",
    "import matplotlib.pyplot as plt\n",
    "import math\n",
    "import pprint\n",
    "\n",
    "from sklearn.datasets import load_iris\n",
    "from sklearn.model_selection import train_test_split\n",
    "from collections import Counter\n",
    "\n",
    "%reload_ext autoreload\n",
    "%autoreload 2\n",
    "%matplotlib inline"
   ]
  },
  {
   "cell_type": "code",
   "execution_count": 2,
   "metadata": {},
   "outputs": [],
   "source": [
    "# 书上题目5.1\n",
    "def create_data():\n",
    "    datasets = [['青年', '否', '否', '一般', '否'],\n",
    "               ['青年', '否', '否', '好', '否'],\n",
    "               ['青年', '是', '否', '好', '是'],\n",
    "               ['青年', '是', '是', '一般', '是'],\n",
    "               ['青年', '否', '否', '一般', '否'],\n",
    "               ['中年', '否', '否', '一般', '否'],\n",
    "               ['中年', '否', '否', '好', '否'],\n",
    "               ['中年', '是', '是', '好', '是'],\n",
    "               ['中年', '否', '是', '非常好', '是'],\n",
    "               ['中年', '否', '是', '非常好', '是'],\n",
    "               ['老年', '否', '是', '非常好', '是'],\n",
    "               ['老年', '否', '是', '好', '是'],\n",
    "               ['老年', '是', '否', '好', '是'],\n",
    "               ['老年', '是', '否', '非常好', '是'],\n",
    "               ['老年', '否', '否', '一般', '否'],\n",
    "               ]\n",
    "    labels = [u'年龄', u'有工作', u'有自己的房子', u'信贷情况', u'类别']\n",
    "    # 返回数据集和每个维度的名称\n",
    "    return datasets, labels"
   ]
  },
  {
   "cell_type": "code",
   "execution_count": 3,
   "metadata": {},
   "outputs": [
    {
     "output_type": "execute_result",
     "data": {
      "text/plain": "    年龄 有工作 有自己的房子 信贷情况 类别\n0   青年   否      否   一般  否\n1   青年   否      否    好  否\n2   青年   是      否    好  是\n3   青年   是      是   一般  是\n4   青年   否      否   一般  否\n5   中年   否      否   一般  否\n6   中年   否      否    好  否\n7   中年   是      是    好  是\n8   中年   否      是  非常好  是\n9   中年   否      是  非常好  是\n10  老年   否      是  非常好  是\n11  老年   否      是    好  是\n12  老年   是      否    好  是\n13  老年   是      否  非常好  是\n14  老年   否      否   一般  否",
      "text/html": "<div>\n<style scoped>\n    .dataframe tbody tr th:only-of-type {\n        vertical-align: middle;\n    }\n\n    .dataframe tbody tr th {\n        vertical-align: top;\n    }\n\n    .dataframe thead th {\n        text-align: right;\n    }\n</style>\n<table border=\"1\" class=\"dataframe\">\n  <thead>\n    <tr style=\"text-align: right;\">\n      <th></th>\n      <th>年龄</th>\n      <th>有工作</th>\n      <th>有自己的房子</th>\n      <th>信贷情况</th>\n      <th>类别</th>\n    </tr>\n  </thead>\n  <tbody>\n    <tr>\n      <th>0</th>\n      <td>青年</td>\n      <td>否</td>\n      <td>否</td>\n      <td>一般</td>\n      <td>否</td>\n    </tr>\n    <tr>\n      <th>1</th>\n      <td>青年</td>\n      <td>否</td>\n      <td>否</td>\n      <td>好</td>\n      <td>否</td>\n    </tr>\n    <tr>\n      <th>2</th>\n      <td>青年</td>\n      <td>是</td>\n      <td>否</td>\n      <td>好</td>\n      <td>是</td>\n    </tr>\n    <tr>\n      <th>3</th>\n      <td>青年</td>\n      <td>是</td>\n      <td>是</td>\n      <td>一般</td>\n      <td>是</td>\n    </tr>\n    <tr>\n      <th>4</th>\n      <td>青年</td>\n      <td>否</td>\n      <td>否</td>\n      <td>一般</td>\n      <td>否</td>\n    </tr>\n    <tr>\n      <th>5</th>\n      <td>中年</td>\n      <td>否</td>\n      <td>否</td>\n      <td>一般</td>\n      <td>否</td>\n    </tr>\n    <tr>\n      <th>6</th>\n      <td>中年</td>\n      <td>否</td>\n      <td>否</td>\n      <td>好</td>\n      <td>否</td>\n    </tr>\n    <tr>\n      <th>7</th>\n      <td>中年</td>\n      <td>是</td>\n      <td>是</td>\n      <td>好</td>\n      <td>是</td>\n    </tr>\n    <tr>\n      <th>8</th>\n      <td>中年</td>\n      <td>否</td>\n      <td>是</td>\n      <td>非常好</td>\n      <td>是</td>\n    </tr>\n    <tr>\n      <th>9</th>\n      <td>中年</td>\n      <td>否</td>\n      <td>是</td>\n      <td>非常好</td>\n      <td>是</td>\n    </tr>\n    <tr>\n      <th>10</th>\n      <td>老年</td>\n      <td>否</td>\n      <td>是</td>\n      <td>非常好</td>\n      <td>是</td>\n    </tr>\n    <tr>\n      <th>11</th>\n      <td>老年</td>\n      <td>否</td>\n      <td>是</td>\n      <td>好</td>\n      <td>是</td>\n    </tr>\n    <tr>\n      <th>12</th>\n      <td>老年</td>\n      <td>是</td>\n      <td>否</td>\n      <td>好</td>\n      <td>是</td>\n    </tr>\n    <tr>\n      <th>13</th>\n      <td>老年</td>\n      <td>是</td>\n      <td>否</td>\n      <td>非常好</td>\n      <td>是</td>\n    </tr>\n    <tr>\n      <th>14</th>\n      <td>老年</td>\n      <td>否</td>\n      <td>否</td>\n      <td>一般</td>\n      <td>否</td>\n    </tr>\n  </tbody>\n</table>\n</div>"
     },
     "metadata": {},
     "execution_count": 3
    }
   ],
   "source": [
    "datasets, labels = create_data()\n",
    "train_data = pd.DataFrame(datasets, columns=labels)\n",
    "train_data"
   ]
  },
  {
   "cell_type": "code",
   "execution_count": 5,
   "metadata": {
    "tags": []
   },
   "outputs": [],
   "source": [
    "# 数据集D的经验熵H(D)\n",
    "def entropy(datasets, class_col=-1):\n",
    "    # 样本数量\n",
    "    data_len = len(datasets)\n",
    "    # 类别列\n",
    "    class_col_data = [data[class_col] for data in datasets]\n",
    "    # 类别集合\n",
    "    class_set = set(class_col_data)\n",
    "    # 每个类别的样本数量\n",
    "    class_count = {c : class_col_data.count(c) for c in class_set}\n",
    "    # 每个类别的率\n",
    "    class_probs = {c : class_count[c] / data_len for c in class_set}\n",
    "    # 经验熵\n",
    "    ent = -sum([prob * math.log(prob, 2) for c, prob in class_probs.items()])\n",
    "\n",
    "    return ent"
   ]
  },
  {
   "cell_type": "code",
   "execution_count": 7,
   "metadata": {},
   "outputs": [],
   "source": [
    "# 特征A对数据集D的经验条件熵H(D|A)\n",
    "def cond_entropy(datasets, feature_col):\n",
    "    # 样本数量\n",
    "    data_len = len(datasets)\n",
    "    # 特征A的类别集合\n",
    "    feature_set = set([data[feature_col] for data in datasets])\n",
    "    # 特征A的每个类别对应的样本集\n",
    "    feature_split_data = {c : [data for data in datasets if data[feature_col] == c] for c in feature_set}\n",
    "    # 经验条件熵\n",
    "    cond_ent = sum([len(datas) / data_len * entropy(datas) for c, datas in feature_split_data.items()])\n",
    "    \n",
    "    return cond_ent"
   ]
  },
  {
   "cell_type": "code",
   "execution_count": 8,
   "metadata": {},
   "outputs": [],
   "source": [
    "# 训练数据集D关于特征A的值的熵HA(D)\n",
    "def feature_entropy(datasets, feature_col):\n",
    "    # 样本数量\n",
    "    data_len = len(datasets)\n",
    "    # 特征A的一列数据\n",
    "    feature_data = [data[feature_col] for data in datasets]\n",
    "    # 特征A的类别集合\n",
    "    feature_set = set(feature_data)\n",
    "    # 特征A的每个类别的样本数占总全样本数之比\n",
    "    feature_count_radio = [feature_data.Count(value) / data_len for value in feature_set]\n",
    "    \n",
    "    ent = -sum([ratio * math.log(ratio, 2) for ratio in feature_count_radio])\n",
    "    return ent"
   ]
  },
  {
   "cell_type": "code",
   "execution_count": 15,
   "metadata": {
    "tags": []
   },
   "outputs": [
    {
     "output_type": "stream",
     "name": "stdout",
     "text": "信息增益: 特征(年龄) - 0.083\n信息增益: 特征(有工作) - 0.324\n信息增益: 特征(有自己的房子) - 0.420\n信息增益: 特征(信贷情况) - 0.363\n"
    },
    {
     "output_type": "execute_result",
     "data": {
      "text/plain": "'特征(有自己的房子) 的信息增益最大，选择为根节点特征'"
     },
     "metadata": {},
     "execution_count": 15
    }
   ],
   "source": [
    "def choose_best_col_id3(datasets):\n",
    "    # 样本维度\n",
    "    feature_count = len(datasets[0])\n",
    "    # 经验熵\n",
    "    ent = entropy(datasets)\n",
    "    # 各个特征的信息增益\n",
    "    info_gains = []\n",
    "\n",
    "    for feature_col in range(feature_count - 1):    # 最后一维是类别\n",
    "        cond_ent = cond_entropy(datasets, feature_col)\n",
    "        info_gain = ent - cond_ent\n",
    "        info_gains.append((feature_col, info_gain))\n",
    "        print('信息增益: 特征({}) - {:.3f}'.format(labels[feature_col], info_gain))\n",
    "\n",
    "    # 比较大小\n",
    "    best_ = max(info_gains, key = lambda x : x[-1])\n",
    "    return '特征({}) 的信息增益最大，选择为根节点特征'.format(labels[best_[0]])\n",
    "\n",
    "choose_best_col_id3(np.array(datasets))"
   ]
  },
  {
   "cell_type": "code",
   "execution_count": 20,
   "metadata": {
    "tags": []
   },
   "outputs": [
    {
     "output_type": "stream",
     "name": "stdout",
     "text": "信息增益比: 特征(年龄) - 0.093\n信息增益比: 特征(有工作) - 0.500\n信息增益比: 特征(有自己的房子) - 0.762\n信息增益比: 特征(信贷情况) - 0.597\n"
    },
    {
     "output_type": "execute_result",
     "data": {
      "text/plain": "'特征(有自己的房子) 的信息增益比最大，选择为根节点特征'"
     },
     "metadata": {},
     "execution_count": 20
    }
   ],
   "source": [
    "def choose_best_col_c4dot5(datasets):\n",
    "    # 样本维度\n",
    "    feature_count = len(datasets[0])\n",
    "    # 经验熵\n",
    "    ent = entropy(datasets)\n",
    "    # 各个特征的信息增益比\n",
    "    info_gains_ratios = []\n",
    "\n",
    "    for feature_col in range(feature_count - 1):    # 最后一维是类别\n",
    "        cond_ent = cond_entropy(datasets, feature_col)\n",
    "        feature_ent = cond_entropy(datasets, feature_col)\n",
    "        info_gain_ratio = (ent - cond_ent) / feature_ent # 信息增益比\n",
    "        info_gains_ratios.append((feature_col, info_gain_ratio))\n",
    "        print('信息增益比: 特征({}) - {:.3f}'.format(labels[feature_col], info_gain_ratio))\n",
    "\n",
    "    # 比较大小\n",
    "    best_ = max(info_gains_ratios, key = lambda x : x[-1])\n",
    "    return '特征({}) 的信息增益比最大，选择为根节点特征'.format(labels[best_[0]])\n",
    "\n",
    "choose_best_col_c4dot5(np.array(datasets))"
   ]
  },
  {
   "cell_type": "code",
   "execution_count": null,
   "metadata": {},
   "outputs": [],
   "source": []
  }
 ]
}